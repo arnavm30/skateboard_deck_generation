{
  "nbformat": 4,
  "nbformat_minor": 0,
  "metadata": {
    "accelerator": "GPU",
    "colab": {
      "name": "StyleGAN2-ADA.ipynb",
      "provenance": [],
      "collapsed_sections": [],
      "toc_visible": true,
      "machine_shape": "hm",
      "include_colab_link": true
    },
    "kernelspec": {
      "display_name": "Python 3",
      "name": "python3"
    }
  },
  "cells": [
    {
      "cell_type": "markdown",
      "metadata": {
        "id": "view-in-github",
        "colab_type": "text"
      },
      "source": [
        "<a href=\"https://colab.research.google.com/github/arnavm30/skateboard_deck_generation/blob/main/StyleGAN2_ADA.ipynb\" target=\"_parent\"><img src=\"https://colab.research.google.com/assets/colab-badge.svg\" alt=\"Open In Colab\"/></a>"
      ]
    },
    {
      "cell_type": "markdown",
      "metadata": {
        "id": "cPI5E5y0pujD"
      },
      "source": [
        "# StyleGAN2-ADA"
      ]
    },
    {
      "cell_type": "markdown",
      "metadata": {
        "id": "SI_i1MwgpzOD"
      },
      "source": [
        "StyleGAN2-ADA only works with Tensorflow 1. "
      ]
    },
    {
      "cell_type": "code",
      "metadata": {
        "id": "iKYAU7Wub3WW"
      },
      "source": [
        "%tensorflow_version 1.x"
      ],
      "execution_count": null,
      "outputs": []
    },
    {
      "cell_type": "markdown",
      "metadata": {
        "id": "vPtLrC4X3dQu"
      },
      "source": [
        "Shows the assigned GPU"
      ]
    },
    {
      "cell_type": "code",
      "metadata": {
        "id": "F-3uO17f3VoR"
      },
      "source": [
        "!nvidia-smi"
      ],
      "execution_count": null,
      "outputs": []
    },
    {
      "cell_type": "markdown",
      "metadata": {
        "id": "xy-RdB1S8jtu"
      },
      "source": [
        "# Setting up Drive"
      ]
    },
    {
      "cell_type": "markdown",
      "metadata": {
        "id": "5YcUMPQp6ipP"
      },
      "source": [
        "Mount Drive to the Colab notebook so that the StyleGAN2-ADA repo can be downloaded into a Drive folder."
      ]
    },
    {
      "cell_type": "code",
      "metadata": {
        "id": "pxxYlEKI9Gis"
      },
      "source": [
        "from google.colab import drive\n",
        "drive.mount('/content/drive', force_remount=True)"
      ],
      "execution_count": null,
      "outputs": []
    },
    {
      "cell_type": "markdown",
      "metadata": {
        "id": "epV6TDzAjox1"
      },
      "source": [
        "If repo already installed, skip the installation process and cd into the repo. If not installed, install it."
      ]
    },
    {
      "cell_type": "code",
      "metadata": {
        "id": "8HX77jscX2zV"
      },
      "source": [
        "import os\n",
        "if os.path.isdir('/content/drive/My Drive/StyleGAN2-ADA_colab'):\n",
        "    %cd '/content/drive/My Drive/StyleGAN2-ADA_colab/stylegan2-ada'\n",
        "else:\n",
        "    %cd '/content/drive/My Drive/'\n",
        "    !mkdir StyleGAN2-ADA_colab\n",
        "    %cd StyleGAN2-ADA_colab\n",
        "    !git clone https://github.com/NVlabs/stylegan2-ada\n",
        "    %cd stylegan2-ada\n",
        "    !mkdir datasets"
      ],
      "execution_count": null,
      "outputs": []
    },
    {
      "cell_type": "markdown",
      "metadata": {
        "id": "tMQ2ujCp8-Me"
      },
      "source": [
        "# Preparing Dataset\n",
        "\n",
        "*This section only needs to be run the first time training to download the dataset into Drive*"
      ]
    },
    {
      "cell_type": "markdown",
      "metadata": {
        "id": "_Q58MJbckLUc"
      },
      "source": [
        "Unzipping zipped dataset uploaded directly to colab"
      ]
    },
    {
      "cell_type": "code",
      "metadata": {
        "id": "8JUP51nJdEjz"
      },
      "source": [
        "zip_path = '/content/decks.zip'\n",
        "outdir = '/content/'\n",
        "!unzip {zip_path} -d {outdir}"
      ],
      "execution_count": null,
      "outputs": []
    },
    {
      "cell_type": "markdown",
      "metadata": {
        "id": "7WshtQFwSZ0_"
      },
      "source": [
        "Converting zipped dataset to a TFRecord, the format StyleGAN2-ADA uses."
      ]
    },
    {
      "cell_type": "code",
      "metadata": {
        "id": "o-Djv0xHKzNQ"
      },
      "source": [
        "dataset = './datasets/decks'\n",
        "dataset_path = '/content/decks'\n",
        "\n",
        "!python dataset_tool.py create_from_images {dataset} {dataset_path}"
      ],
      "execution_count": null,
      "outputs": []
    },
    {
      "cell_type": "markdown",
      "metadata": {
        "id": "aifiqhUi8v51"
      },
      "source": [
        "# Training Model"
      ]
    },
    {
      "cell_type": "markdown",
      "metadata": {
        "id": "BbWwyQeuHAN1"
      },
      "source": [
        "Setting arguments and training model."
      ]
    },
    {
      "cell_type": "code",
      "metadata": {
        "id": "jOftFoyiDU3s"
      },
      "source": [
        "# for first time training, set to 'ffhq512' for transfer learning so that convergence is faster\n",
        "# after, set to path of latest .pkl file to resume where previous training left off\n",
        "resume_from = '/content/drive/MyDrive/StyleGAN2-ADA_colab/stylegan2-ada/results/00007-decks-mirror-auto1-bg-resumecustom/network-snapshot-000240.pkl'\n",
        "\n",
        "dataset = './datasets/decks'\n",
        "\n",
        "# augmentations: (b)lit, (g)eom\n",
        "augs = 'bg'\n",
        "\n",
        "# images mirrored left to right\n",
        "mirrored = True \n",
        "\n",
        "# model generate samples and a .pkl file with model weights every 4 ticks\n",
        "snapshot_count = 4 \n",
        "\n",
        "# no metrics since quality of output is kind of subjective and running metrics adds a lot of time\n",
        "metrics = None \n",
        "\n",
        "outdir = './results'\n",
        "\n",
        "# training\n",
        "!python train.py  --resume {resume_from} --data {dataset} --augpipe {augs} --mirror {mirrored} --snap {snapshot_count} --metrics {metrics} --outdir {outdir}"
      ],
      "execution_count": null,
      "outputs": []
    },
    {
      "cell_type": "markdown",
      "metadata": {
        "id": "egM2ILvWyBvh"
      },
      "source": [
        "# Testing Model"
      ]
    },
    {
      "cell_type": "markdown",
      "metadata": {
        "id": "_Nthie3OyIO6"
      },
      "source": [
        "Downloading model from Drive"
      ]
    },
    {
      "cell_type": "code",
      "metadata": {
        "id": "E1EPz7W4qaoY"
      },
      "source": [
        "id = '117ZORa1dPkpkMxVKhugPmcioXFKL4zFx' #google id of saved model in .pkl format\n",
        "outdir = '/content/network.pkl'\n",
        "!gdown --id {id} -O {outdir}"
      ],
      "execution_count": null,
      "outputs": []
    },
    {
      "cell_type": "markdown",
      "metadata": {
        "id": "3cVT62Vd12Vz"
      },
      "source": [
        "opensimplex is needed for programs used to test the model"
      ]
    },
    {
      "cell_type": "code",
      "metadata": {
        "id": "eBcMGWDr3OS0"
      },
      "source": [
        "!pip install opensimplex"
      ],
      "execution_count": null,
      "outputs": []
    },
    {
      "cell_type": "markdown",
      "metadata": {
        "id": "sW48NdwgzWuj"
      },
      "source": [
        " ### Generating Images\n",
        "\n",
        "`--seeds` chooses random seeds from the model; each seed generates one random array"
      ]
    },
    {
      "cell_type": "code",
      "metadata": {
        "id": "mrcWn-auDc-p"
      },
      "source": [
        "network = '/content/network.pkl'\n",
        "seeds='1-40'\n",
        "outdir = '/content/drive/MyDrive/StyleGAN2-ADA_colab/stylegan2-ada//testing/generate'\n",
        "\n",
        "!python generate.py generate-images --network {network} --seeds {seeds} --outdir {outdir}"
      ],
      "execution_count": null,
      "outputs": []
    },
    {
      "cell_type": "markdown",
      "metadata": {
        "id": "nYZqiyFX81SR"
      },
      "source": [
        "### Interpolation\n",
        "generating small changes to a vector to make it appear animated between each frame\n",
        "\n",
        "`--walk-type`: type of interpolation (line or noise loop) and latent space (z space or w space)\n",
        "\n",
        "`--frames`: amount of frames to make\n",
        "\n",
        "`--trunc`: number that relates to level of realisticness of the the ouptut. 0.0-1.0 produce realistic results"
      ]
    },
    {
      "cell_type": "markdown",
      "metadata": {
        "id": "VBv6n8c7_TkA"
      },
      "source": [
        "###### Line interpolation\n",
        "linear path from one seed to another in w or z space."
      ]
    },
    {
      "cell_type": "code",
      "metadata": {
        "id": "I9PFflGACktY"
      },
      "source": [
        "network = '/content/network.pkl'\n",
        "seeds = '13,19,94,133,67,22,13'\n",
        "walk = 'line-w'\n",
        "outdir = '/content/drive/MyDrive/StyleGAN2-ADA_colab/stylegan2-ada//testing/line-w'\n",
        "\n",
        "!python generate.py generate-latent-walk --network {network} --walk-type {walk} --seeds {seeds} --outdir {outdir}"
      ],
      "execution_count": null,
      "outputs": []
    },
    {
      "cell_type": "markdown",
      "metadata": {
        "id": "RgxA1wCF3CvJ"
      },
      "source": [
        "###### Noise loop interpolation\n",
        "random path through z space\n",
        "\n",
        "`--diameter`: number that controls the radius of the loop (small means less diverse sample, large means more diverse)\n",
        "\n",
        "`--start_seed`: starting place in z space"
      ]
    },
    {
      "cell_type": "code",
      "metadata": {
        "id": "Qbap7Trm22Wm"
      },
      "source": [
        "network = '/content/network.pkl'\n",
        "walk = 'noiseloop'\n",
        "diameter = '1.5'\n",
        "start_seed = '0'\n",
        "outdir = '/content/drive/MyDrive/StyleGAN2-ADA_colab/stylegan2-ada/testing/noiseloop'\n",
        "\n",
        "!python generate.py generate-latent-walk --network {network} --walk-type {walk} --start_seed {start_seed} --diameter {diameter} --outdir {outdir}"
      ],
      "execution_count": null,
      "outputs": []
    },
    {
      "cell_type": "markdown",
      "metadata": {
        "id": "KI9FvrEUY1Xs"
      },
      "source": [
        "### Projection\n",
        "taking an image outside the model and finding the closest representation generated by the model. \n"
      ]
    },
    {
      "cell_type": "code",
      "metadata": {
        "id": "ZXa80rvIzWIJ"
      },
      "source": [
        "%cd /content/drive/My Drive/StyleGAN2-ADA_colab/stylegan2-ada/\n",
        "network = '/content/network.pkl'\n",
        "target = '/content/ccs_40.png'\n",
        "outdir = '/content/drive/MyDrive/StyleGAN2-ADA_colab/stylegan2-ada/testing/projection'\n",
        "\n",
        "!python projector.py  --network {network} --target {target} --outdir {outdir}"
      ],
      "execution_count": null,
      "outputs": []
    },
    {
      "cell_type": "markdown",
      "metadata": {
        "id": "hYFmAifBxcyh"
      },
      "source": [
        "# Displaying Results\n",
        "\n",
        "This cell is used to display images generated from running tests"
      ]
    },
    {
      "cell_type": "code",
      "metadata": {
        "id": "Z_RIVNzQzxXT"
      },
      "source": [
        "from IPython.display import Image, display\n",
        "import glob, os\n",
        "images = '/content/drive/MyDrive/StyleGAN2-ADA_colab/stylegan2-ada/testing/projection'\n",
        "os.chdir(images)\n",
        "for image_name in glob.glob('*.png'):\n",
        "  display(Image(filename=image_name, width=512))"
      ],
      "execution_count": null,
      "outputs": []
    }
  ]
}